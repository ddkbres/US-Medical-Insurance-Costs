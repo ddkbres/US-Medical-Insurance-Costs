{
 "cells": [
  {
   "cell_type": "code",
   "execution_count": 1,
   "id": "137c81da",
   "metadata": {},
   "outputs": [
    {
     "name": "stdout",
     "output_type": "stream",
     "text": [
      "Keanu's Estimated Insurance Cost: 29591.0 dollars.\n",
      "To lower your cost, you should consider quitting smoking.\n",
      "None\n",
      "Your BMI is in the overweight range. To lower your cost, you should lower your BMI.\n",
      "None\n",
      "Don's Estimated Insurance Cost: 30331.0 dollars.\n",
      "To lower your cost, you should consider quitting smoking.\n",
      "None\n",
      "Your BMI is in the overweight range. To lower your cost, you should lower your BMI.\n",
      "None\n"
     ]
    }
   ],
   "source": [
    "# Add your code here\n",
    "def analyze_smoker(smoker_status):\n",
    "  if smoker_status==1:\n",
    "    print(\"To lower your cost, you should consider quitting smoking.\")\n",
    "  else:\n",
    "    print(\"Smoking is not an issue for you.\")\n",
    "def analyze_bmi(bmi_value):\n",
    "  if bmi_value>30:\n",
    "    print(\"Your BMI is in the obese range. To lower your cost, you should significantly lower your BMI.\")\n",
    "  elif (bmi_value>=25) and (bmi_value<=30):\n",
    "    print(\"Your BMI is in the overweight range. To lower your cost, you should lower your BMI.\")\n",
    "  elif (bmi_value >= 18.5) and (bmi_value < 25):\n",
    "    print(\"Your BMI is in a healthy range.\")\n",
    "  else:\n",
    "    print(\"Your BMI is in the underweight range. Increasing your BMI will not help lower your cost, but it will help improve your health.\")\n",
    "\n",
    "\n",
    "# Function to estimate insurance cost:\n",
    "def estimate_insurance_cost(name, age, sex, bmi, num_of_children, smoker):\n",
    "  estimated_cost = 250*age - 128*sex + 370*bmi + 425*num_of_children + 24000*smoker - 12500\n",
    "  print(name + \"'s Estimated Insurance Cost: \" + str(estimated_cost) + \" dollars.\")\n",
    "  print(analyze_smoker(smoker))\n",
    "  print(analyze_bmi(bmi))\n",
    "  return estimated_cost\n",
    " \n",
    "# Estimate Keanu's insurance cost\n",
    "keanu_insurance_cost = estimate_insurance_cost(name = 'Keanu', age = 29, sex = 1, bmi = 26.2, num_of_children = 3, smoker = 1)\n",
    "\n",
    "# Estimate Keanu's insurance cost\n",
    "don_insurance_cost = estimate_insurance_cost(name = 'Don', age = 29, sex = 1, bmi = 28.2, num_of_children = 3, smoker = 1)"
   ]
  },
  {
   "cell_type": "code",
   "execution_count": null,
   "id": "5912e39f",
   "metadata": {},
   "outputs": [],
   "source": []
  }
 ],
 "metadata": {
  "kernelspec": {
   "display_name": "Python 3",
   "language": "python",
   "name": "python3"
  },
  "language_info": {
   "codemirror_mode": {
    "name": "ipython",
    "version": 3
   },
   "file_extension": ".py",
   "mimetype": "text/x-python",
   "name": "python",
   "nbconvert_exporter": "python",
   "pygments_lexer": "ipython3",
   "version": "3.8.8"
  }
 },
 "nbformat": 4,
 "nbformat_minor": 5
}
