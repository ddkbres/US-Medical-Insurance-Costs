{
 "cells": [
  {
   "cell_type": "code",
   "execution_count": 1,
   "id": "1470a787",
   "metadata": {},
   "outputs": [
    {
     "name": "stdout",
     "output_type": "stream",
     "text": [
      "John Doe has 3 children. \n",
      "John Doe’s estimated insurance costs is 5111.0 dollars.\n",
      "John Doe is now 33 years old.\n",
      "{'Name': 'John Doe', 'Age': 33, 'Sex': 1, 'BMI': 22.2, 'Number of Children': 3, 'Smoker': 0}\n"
     ]
    }
   ],
   "source": [
    "class Patient:\n",
    "  def __init__(self, name, age, sex, bmi, num_of_children, smoker):\n",
    "    self.name = name\n",
    "    self.age = age\n",
    "    self.sex = sex\n",
    "    self.bmi = bmi\n",
    "    self.num_of_children = num_of_children\n",
    "    self.smoker = smoker\n",
    "\n",
    "\n",
    "  def estimated_insurance_cost(self):\n",
    "        estimated_cost = 250*self.age \\\n",
    "                        - 128*self.sex \\\n",
    "                        + 370*self.bmi \\\n",
    "                        + 425*self.num_of_children \\\n",
    "                        + 24000*self.smoker \\\n",
    "                        - 12500\n",
    "        print(\"{patient_name}’s estimated insurance costs is {estimated_cost} dollars.\".format(patient_name=self.name, estimated_cost=estimated_cost))\n",
    "      \n",
    "  def update_age(self, new_age):\n",
    "    self.age = new_age\n",
    "    self.estimated_insurance_cost()\n",
    "    print(\"{patient_name} is now {patient_age} years old.\".format(patient_name=self.name, patient_age=self.age))\n",
    "\n",
    "  def update_num_children(self, new_num_children):\n",
    "     self.num_of_children = new_num_children\n",
    "     if self.num_of_children == 1:\n",
    "        print(self.name + \" has \" + str(self.num_of_children) + \" child.\")\n",
    "     else:\n",
    "        print(self.name + \" has \" + str(self.num_of_children) + \" children. \")  \n",
    "\n",
    "  def patient_profile(self):\n",
    "     patient_information = {}\n",
    "     patient_information[\"Name\"] = self.name\n",
    "     patient_information[\"Age\"] = self.age\n",
    "     patient_information[\"Sex\"] = self.sex\n",
    "     patient_information[\"BMI\"] = self.bmi\n",
    "     patient_information[\"Number of Children\"] = self.num_of_children\n",
    "     patient_information[\"Smoker\"] = self.smoker\n",
    "     return patient_information\n",
    "\n",
    "patient1 = Patient(\"John Doe\", 25, 1, 22.2, 0, 0)\n",
    "patient1.update_num_children(3)\n",
    "patient1.update_age(33)\n",
    "print(patient1.patient_profile())\n",
    "\n"
   ]
  },
  {
   "cell_type": "code",
   "execution_count": null,
   "id": "b1d2fd1a",
   "metadata": {},
   "outputs": [],
   "source": []
  }
 ],
 "metadata": {
  "kernelspec": {
   "display_name": "Python 3",
   "language": "python",
   "name": "python3"
  },
  "language_info": {
   "codemirror_mode": {
    "name": "ipython",
    "version": 3
   },
   "file_extension": ".py",
   "mimetype": "text/x-python",
   "name": "python",
   "nbconvert_exporter": "python",
   "pygments_lexer": "ipython3",
   "version": "3.8.8"
  }
 },
 "nbformat": 4,
 "nbformat_minor": 5
}
