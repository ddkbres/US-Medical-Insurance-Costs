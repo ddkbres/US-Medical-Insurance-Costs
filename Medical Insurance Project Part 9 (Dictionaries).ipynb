{
 "cells": [
  {
   "cell_type": "code",
   "execution_count": 1,
   "id": "3c80c2bf",
   "metadata": {},
   "outputs": [
    {
     "name": "stdout",
     "output_type": "stream",
     "text": [
      "Marina's age is 27\n",
      "Connie's insurance cost is 43\n",
      "Marina is a 27 year old Female Non-smoker with a BMI of 31.1 and insurance cost of 6607.0\n",
      "Connie is a 43 year old Female Non-smoker with a BMI of 25.3 and insurance cost of 8886.0\n",
      "Isaac is a 35 year old Male Smoker with a BMI of 20.6 and insurance cost of 164444.0\n",
      "Valentina is a 52 year old Female Non-smoker with a BMI of 18.7 and insurance cost of 6420.0\n"
     ]
    }
   ],
   "source": [
    "# Add your code here\n",
    "medical_costs = {}\n",
    "medical_costs['Marina'] = 6607.0\n",
    "medical_costs['Vinay'] = 3325.0\n",
    "\n",
    "medical_costs.update({\"Connie\": 8886.0, \"Isaac\": 16444.0, \"Valentina\": 6420.0})\n",
    "\n",
    "medical_costs[\"Vinay\"] = 3325.0\n",
    "\n",
    "#print(medical_costs)\n",
    "\n",
    "total_cost = 0\n",
    "\n",
    "for cost in medical_costs.values():\n",
    "  total_cost += cost\n",
    "\n",
    "average_cost = total_cost/len(medical_costs)\n",
    "\n",
    "names = [\"Marina\", \"Vinay\", \"Connie\", \"Isaac\"]\n",
    "ages = [27, 24, 43, 35]\n",
    "\n",
    "names_to_ages = {key:value for key, value in zip(names, ages)}\n",
    "\n",
    "marina_age = names_to_ages.get(\"Marina\", \"None\")\n",
    "print(\"Marina's age is \" + str(marina_age))\n",
    "\n",
    "medical_records = {}\n",
    "medical_records[\"Marina\"] = {\"Age\": 27, \"Sex\": \"Female\", \"BMI\": 31.1, \"Children\": 2, \"Smoker\": \"Non-smoker\", \"Insurance_cost\": 6607.0}\n",
    "medical_records[\"Vinay\"] = {\"Age\": 24, \"Sex\": \"Male\", \"BMI\": 26.9, \"Children\": 0, \"Smoker\": \"Non-smoker\", \"Insurance_cost\": 3325.0}\n",
    "medical_records[\"Connie\"] = {\"Age\": 43, \"Sex\": \"Female\", \"BMI\": 25.3, \"Children\": 3, \"Smoker\": \"Non-smoker\", \"Insurance_cost\": 8886.0}\n",
    "medical_records[\"Isaac\"] = {\"Age\": 35, \"Sex\": \"Male\", \"BMI\": 20.6, \"Children\": 4, \"Smoker\": \"Smoker\", \"Insurance_cost\": 164444.0}\n",
    "medical_records[\"Valentina\"] = {\"Age\": 52, \"Sex\": \"Female\", \"BMI\": 18.7, \"Children\": 1, \"Smoker\": \"Non-smoker\", \"Insurance_cost\": 6420.0}\n",
    "\n",
    "print(\"Connie's insurance cost is \"+ str(medical_records.get(\"Connie\").get(\"Age\")))\n",
    "\n",
    "medical_records.pop(\"Vinay\")\n",
    "\n",
    "for key, values in medical_records.items():\n",
    "  print(key + \" is a \"+ str(values.get(\"Age\"))+ \" year old \" + values.get('Sex')+ \" \" + values.get('Smoker') + \" with a BMI of \" + str(values.get('BMI')) + \" and insurance cost of \" + str(values.get('Insurance_cost')))\n",
    " \n",
    "\n"
   ]
  },
  {
   "cell_type": "code",
   "execution_count": null,
   "id": "aa88214d",
   "metadata": {},
   "outputs": [],
   "source": []
  }
 ],
 "metadata": {
  "kernelspec": {
   "display_name": "Python 3",
   "language": "python",
   "name": "python3"
  },
  "language_info": {
   "codemirror_mode": {
    "name": "ipython",
    "version": 3
   },
   "file_extension": ".py",
   "mimetype": "text/x-python",
   "name": "python",
   "nbconvert_exporter": "python",
   "pygments_lexer": "ipython3",
   "version": "3.8.8"
  }
 },
 "nbformat": 4,
 "nbformat_minor": 5
}
