{
 "cells": [
  {
   "cell_type": "code",
   "execution_count": 1,
   "id": "9142ea7e",
   "metadata": {},
   "outputs": [
    {
     "name": "stdout",
     "output_type": "stream",
     "text": [
      "The estimated insurance cost for Maria is 5469.0 dollars.\n",
      "The estimated insurance cost for Omar is 28336.0 dollars.\n",
      "The estimated insurance cost for Don is 11895.0 dollars.\n",
      "The difference in insurance cost is -22867.0 dollars.\n"
     ]
    }
   ],
   "source": [
    "# Create calculate_insurance_cost() function below: \n",
    "def calculate_insurance_cost(name,age,sex,bmi,\n",
    "\n",
    "num_of_children,smoker):\n",
    "  estimated_cost=250*age - 128*sex + 370*bmi + 425*num_of_children + 24000*smoker - 12500\n",
    "  \n",
    "  statement=(\"The estimated insurance cost for \"+name+\" is \"+str(estimated_cost)+\" dollars.\")\n",
    "  print(statement)\n",
    "  return statement\n",
    "  return estimated_cost\n",
    " \n",
    "\n",
    "# Estimate Maria's insurance cost\n",
    "marias_insurance_cost = calculate_insurance_cost(\"Maria\",28,0,26.2,3,0)  \n",
    "\n",
    "# Estimate Omar's insurance cost \n",
    "omars_insurance_cost = calculate_insurance_cost(\"Omar\",35,1,22.2,0,1)\n",
    "\n",
    "# Estimate Don's insurance cost \n",
    "dons_insurance_cost = calculate_insurance_cost(\"Don\",48,1,30.4,3,0)\n",
    "\n",
    "def cost_diff(cost1,cost2):\n",
    "  costdiff=cost1-cost2\n",
    "  print(\"The difference in insurance cost is \"+str(costdiff)+\" dollars.\")\n",
    "\n",
    "cost_diff(5469.0,28336.0)"
   ]
  },
  {
   "cell_type": "code",
   "execution_count": null,
   "id": "cca4e321",
   "metadata": {},
   "outputs": [],
   "source": []
  }
 ],
 "metadata": {
  "kernelspec": {
   "display_name": "Python 3",
   "language": "python",
   "name": "python3"
  },
  "language_info": {
   "codemirror_mode": {
    "name": "ipython",
    "version": 3
   },
   "file_extension": ".py",
   "mimetype": "text/x-python",
   "name": "python",
   "nbconvert_exporter": "python",
   "pygments_lexer": "ipython3",
   "version": "3.8.8"
  }
 },
 "nbformat": 4,
 "nbformat_minor": 5
}
