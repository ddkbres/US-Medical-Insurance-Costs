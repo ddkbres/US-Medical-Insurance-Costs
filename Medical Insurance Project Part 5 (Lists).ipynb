{
 "cells": [
  {
   "cell_type": "code",
   "execution_count": 1,
   "id": "2ebb4514",
   "metadata": {},
   "outputs": [
    {
     "name": "stdout",
     "output_type": "stream",
     "text": [
      "[('Mohamed', 13262.0), ('Sara', 4816.0), ('Xia', 6839.0), ('Paul', 5054.0), ('Valentina', 14724.0), ('Jide', 5360.0), ('Aaron', 7640.0), ('Emily', 6072.0), ('Nikita', 2750.0), ('Paul', 12064.0), ('Priscilla', 8320.0)]\n",
      "There are 11 medical records.\n",
      "Here is the first medical record: ('Mohamed', 13262.0)\n",
      "Here are the medical records sorted by insurance cost: [('Nikita', 2750.0), ('Sara', 4816.0), ('Paul', 5054.0), ('Jide', 5360.0), ('Emily', 6072.0), ('Xia', 6839.0), ('Aaron', 7640.0), ('Priscilla', 8320.0), ('Paul', 12064.0), ('Mohamed', 13262.0), ('Valentina', 14724.0)]\n",
      "[('Nikita', 2750.0), ('Sara', 4816.0), ('Paul', 5054.0)]\n",
      "[('Paul', 12064.0), ('Mohamed', 13262.0), ('Valentina', 14724.0)]\n",
      "There are 2 individuals with the name Paul in our medical records.\n"
     ]
    }
   ],
   "source": [
    "names = [\"Mohamed\", \"Sara\", \"Xia\", \"Paul\", \"Valentina\", \"Jide\", \"Aaron\", \"Emily\", \"Nikita\", \"Paul\"]\n",
    "insurance_costs = [13262.0, 4816.0, 6839.0, 5054.0, 14724.0, 5360.0, 7640.0, 6072.0, 2750.0, 12064.0]\n",
    "\n",
    "# Add your code here\n",
    "names.append('Priscilla')\n",
    "insurance_costs.append(8320.0)\n",
    "medical_records=list(zip(names,insurance_costs))\n",
    "print(medical_records)\n",
    "num_medical_records=len(medical_records)\n",
    "print('There are '+str(num_medical_records)+ ' medical records.')\n",
    "first_medical_record=medical_records[0]\n",
    "print('Here is the first medical record: '+str(first_medical_record))\n",
    "medical_records.sort(key=lambda x:x[1])\n",
    "print('Here are the medical records sorted by insurance cost: '+str(medical_records))\n",
    "cheapest_three=medical_records[:3]\n",
    "print(cheapest_three)\n",
    "priciest_three=medical_records[-3:]\n",
    "print(priciest_three)\n",
    "occurances_paul=names.count('Paul')\n",
    "print('There are '+ str(occurances_paul)+' individuals with the name Paul in our medical records.')\n",
    "\n"
   ]
  },
  {
   "cell_type": "code",
   "execution_count": null,
   "id": "946f14a9",
   "metadata": {},
   "outputs": [],
   "source": []
  }
 ],
 "metadata": {
  "kernelspec": {
   "display_name": "Python 3",
   "language": "python",
   "name": "python3"
  },
  "language_info": {
   "codemirror_mode": {
    "name": "ipython",
    "version": 3
   },
   "file_extension": ".py",
   "mimetype": "text/x-python",
   "name": "python",
   "nbconvert_exporter": "python",
   "pygments_lexer": "ipython3",
   "version": "3.8.8"
  }
 },
 "nbformat": 4,
 "nbformat_minor": 5
}
