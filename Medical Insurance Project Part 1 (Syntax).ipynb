{
 "cells": [
  {
   "cell_type": "code",
   "execution_count": 1,
   "id": "741dce20",
   "metadata": {},
   "outputs": [
    {
     "name": "stdout",
     "output_type": "stream",
     "text": [
      "This person's insurance cost is 5469.0 dollars\n",
      "This person's insurance cost is 6469.0 dollars\n",
      "The change in cost of insurance after increasing the age by 4 years is 1000.0\n",
      "The change in estimated insurance cost after increasing BMI by 3.1 is 1147.0 dollars\n",
      "The change in estimated cost for being male instead of female is -128.0 dollars\n"
     ]
    }
   ],
   "source": [
    "# create the initial variables below\n",
    "age=28\n",
    "sex = 0\n",
    "smoker=0\n",
    "num_of_children=3\n",
    "bmi=26.2\n",
    "\n",
    "# Add insurance estimate formula below\n",
    "insurance_cost = 250*age - 128*sex + 370*bmi + 425*num_of_children + 24000*smoker - 12500\n",
    "\n",
    "print(\"This person's insurance cost is\", insurance_cost, \"dollars\")\n",
    "\n",
    "# Age Factor\n",
    "age += 4\n",
    "new_insurance_cost = 250*age - 128*sex + 370*bmi + 425*num_of_children + 24000*smoker - 12500\n",
    "change_in_insurance_cost = new_insurance_cost - insurance_cost\n",
    "print(\"This person's insurance cost is\", new_insurance_cost, \"dollars\")\n",
    "print(\"The change in cost of insurance after increasing the age by 4 years is\", change_in_insurance_cost)\n",
    "\n",
    "# BMI Factor\n",
    "age = 28\n",
    "bmi += 3.1\n",
    "new_insurance_cost = 250*age - 128*sex + 370*bmi + 425*num_of_children + 24000*smoker - 12500\n",
    "change_in_insurance_cost = new_insurance_cost - insurance_cost\n",
    "print(\"The change in estimated insurance cost after increasing BMI by 3.1 is\", change_in_insurance_cost, \"dollars\")\n",
    "\n",
    "# Male vs. Female Factor\n",
    "bmi = 26.2\n",
    "sex=1\n",
    "new_insurance_cost = 250*age - 128*sex + 370*bmi + 425*num_of_children + 24000*smoker - 12500\n",
    "change_in_insurance_cost = new_insurance_cost - insurance_cost\n",
    "print(\"The change in estimated cost for being male instead of female is\",change_in_insurance_cost,\"dollars\")\n",
    "\n",
    "# Extra Practice"
   ]
  },
  {
   "cell_type": "code",
   "execution_count": null,
   "id": "9da1bc87",
   "metadata": {},
   "outputs": [],
   "source": []
  }
 ],
 "metadata": {
  "kernelspec": {
   "display_name": "Python 3",
   "language": "python",
   "name": "python3"
  },
  "language_info": {
   "codemirror_mode": {
    "name": "ipython",
    "version": 3
   },
   "file_extension": ".py",
   "mimetype": "text/x-python",
   "name": "python",
   "nbconvert_exporter": "python",
   "pygments_lexer": "ipython3",
   "version": "3.8.8"
  }
 },
 "nbformat": 4,
 "nbformat_minor": 5
}
